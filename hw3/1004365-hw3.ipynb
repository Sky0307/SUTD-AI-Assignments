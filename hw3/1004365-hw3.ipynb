{
 "cells": [
  {
   "cell_type": "markdown",
   "id": "2f4f162b",
   "metadata": {},
   "source": [
    "# 50.021 AI -  Homework 3\n",
    "\n",
    "## Name: Lee Jet Xuen\n",
    "## Student ID: 1004365\n",
    "## Discuss with: \n",
    "1004379 Lim Jun Wei"
   ]
  },
  {
   "cell_type": "code",
   "execution_count": 1,
   "id": "1eea5ea5",
   "metadata": {},
   "outputs": [],
   "source": [
    "from csp import *\n",
    "from random import shuffle\n",
    "import random\n",
    "random.seed(99)\n",
    "import numpy as np"
   ]
  },
  {
   "cell_type": "code",
   "execution_count": 2,
   "id": "8f6183c8",
   "metadata": {},
   "outputs": [],
   "source": [
    "def solve_semi_magic(algorithm=backtracking_search, **args):\n",
    "    \"\"\" From CSP class in csp.py\n",
    "        vars        A list of variables; each is atomic (e.g. int or string).\n",
    "        domains     A dict of {var:[possible_value, ...]} entries.\n",
    "        neighbors   A dict of {var:[var,...]} that for each variable lists\n",
    "                    the other variables that participate in constraints.\n",
    "        constraints A function f(A, a, B, b) that returns true if neighbors\n",
    "                    A, B satisfy the constraint when they have values A=a, B=b\n",
    "                    \"\"\"\n",
    "    # Use the variable names in the figure\n",
    "    csp_vars = ['V%d'%d for d in range(1,10)]\n",
    "\n",
    "    #########################################\n",
    "    # Fill in these definitions\n",
    "\n",
    "    csp_domains = dict()\n",
    "    for i,v in enumerate(csp_vars):\n",
    "        csp_domains[v] = list(range(1, 4))\n",
    "    \n",
    "    csp_neighbors = {\n",
    "        'V1': ['V2', 'V3', 'V4', 'V5', 'V7', 'V9'],\n",
    "        'V2': ['V1', 'V3', 'V5', 'V8'],\n",
    "        'V3': ['V1', 'V2', 'V6', 'V9'],\n",
    "        'V4': ['V1', 'V7', 'V5', 'V6'],\n",
    "        'V5': ['V1', 'V2', 'V4', 'V6', 'V8', 'V9'],\n",
    "        'V6': ['V3', 'V4', 'V5', 'V9'],\n",
    "        'V7': ['V1', 'V4', 'V8', 'V9'],\n",
    "        'V8': ['V7', 'V2', 'V5', 'V9'],\n",
    "        'V9': ['V1', 'V5', 'V3', 'V6', 'V7', 'V8'],\n",
    "    }\n",
    "    def csp_constraints(A, a, B, b):\n",
    "        return a != b\n",
    "    \n",
    "    # random variables sequence\n",
    "    random.shuffle(csp_vars)\n",
    "    \n",
    "    csp_domains = list(csp_domains.items())\n",
    "    random.shuffle(csp_domains)\n",
    "    csp_domains = dict(csp_domains)\n",
    "    for i in csp_domains.values(): \n",
    "        random.shuffle(i)\n",
    "    \n",
    "    csp_neighbors = list(csp_neighbors.items())\n",
    "    random.shuffle(csp_neighbors)\n",
    "    csp_neighbors = dict(csp_neighbors)\n",
    "    for i in csp_neighbors.values(): \n",
    "        random.shuffle(i)\n",
    "\n",
    "    #########################################\n",
    "    \n",
    "    \n",
    "    # define the CSP instance\n",
    "    csp = CSP(csp_vars, csp_domains, csp_neighbors,\n",
    "              csp_constraints)\n",
    "\n",
    "    # run the specified algorithm to get an answer (or None)\n",
    "    ans = algorithm(csp, **args)\n",
    "    \n",
    "#     print(f\"number of assignments {csp.nassigns}\")\n",
    "    assign = csp.infer_assignment()\n",
    "#     if assign:\n",
    "#         for x in sorted(assign.items()):\n",
    "#             print(f\"x:{x}\")\n",
    "    return csp"
   ]
  },
  {
   "cell_type": "markdown",
   "id": "176baf5d",
   "metadata": {},
   "source": [
    "# Changes made\n",
    "\n",
    "I randomised the `csp_vars` and `csp_neighbors`, because by default the variables will be assigned in ascending order(i.e. V1, V2, V3, ..., V9), then the solution will always be completed in 9 steps(amount of assignments), with the following solution:\n",
    "\n",
    "{\n",
    "    V1:1,\n",
    "    V2:2,\n",
    "    V3:3,\n",
    "    V4:2,\n",
    "    V5:3,\n",
    "    V6:1,\n",
    "    V7;3,\n",
    "    V8:1,\n",
    "    V9:2\n",
    "}\n",
    "\n",
    "V1, V5 and V9 have the most constraints on the remaining variables, this means that it's difficult to see the difference between different solution methods as they will all reach their optimal solution, which is 9 steps.\n",
    "\n",
    "\n",
    "As the number of assignments depends largely on the randomness from the `random.shuffle` function, the average of 10,000 iterations was taken to analyse the performance of each enhancements"
   ]
  },
  {
   "cell_type": "code",
   "execution_count": 3,
   "id": "60453587",
   "metadata": {},
   "outputs": [],
   "source": [
    "n = 10000"
   ]
  },
  {
   "cell_type": "markdown",
   "id": "618dfdf9",
   "metadata": {},
   "source": [
    "### Without any enhancement"
   ]
  },
  {
   "cell_type": "code",
   "execution_count": 4,
   "id": "3ce5baec",
   "metadata": {},
   "outputs": [],
   "source": [
    "result_raw = []\n",
    "\n",
    "\"\"\"\n",
    "default variable:\n",
    "    algorithm: backtracking_search\n",
    "    select_unassigned_variable = first_unassigned_variable,\n",
    "    order_domain_values = unordered_domain_values,\n",
    "    inference = no_inference\n",
    "\"\"\"\n",
    "for i in range(n):\n",
    "    result_raw.append(solve_semi_magic().nassigns)"
   ]
  },
  {
   "cell_type": "code",
   "execution_count": 5,
   "id": "66440642",
   "metadata": {},
   "outputs": [
    {
     "name": "stdout",
     "output_type": "stream",
     "text": [
      "Without any enhancement, it take average 14.9176 steps to solve the problem\n"
     ]
    }
   ],
   "source": [
    "print(f\"Without any enhancement, it take average {np.mean(result_raw)} steps to solve the problem\")"
   ]
  },
  {
   "cell_type": "markdown",
   "id": "c130df03",
   "metadata": {},
   "source": [
    "### Only MRV"
   ]
  },
  {
   "cell_type": "code",
   "execution_count": 6,
   "id": "c2e9f225",
   "metadata": {},
   "outputs": [],
   "source": [
    "result_mrv = []\n",
    "for i in range(n):\n",
    "    result_mrv.append(solve_semi_magic(backtracking_search, \n",
    "                                   select_unassigned_variable = mrv, \n",
    "                                   order_domain_values = unordered_domain_values,\n",
    "                                   inference = no_inference).nassigns)"
   ]
  },
  {
   "cell_type": "code",
   "execution_count": 7,
   "id": "dcdc73ad",
   "metadata": {
    "scrolled": true
   },
   "outputs": [
    {
     "name": "stdout",
     "output_type": "stream",
     "text": [
      "With only Minimum Remaining Value, it take average 14.8263 steps to solve the problem\n"
     ]
    }
   ],
   "source": [
    "print(f\"With only Minimum Remaining Value, it take average {np.mean(result_mrv)} steps to solve the problem\")"
   ]
  },
  {
   "cell_type": "markdown",
   "id": "0497af7e",
   "metadata": {},
   "source": [
    "### Only LCV"
   ]
  },
  {
   "cell_type": "code",
   "execution_count": 8,
   "id": "653874cd",
   "metadata": {},
   "outputs": [],
   "source": [
    "result_lcv = []\n",
    "for i in range(n):\n",
    "    result_lcv.append(solve_semi_magic(backtracking_search, \n",
    "                                   select_unassigned_variable = first_unassigned_variable, \n",
    "                                   order_domain_values = lcv,\n",
    "                                   inference = no_inference).nassigns)"
   ]
  },
  {
   "cell_type": "code",
   "execution_count": 9,
   "id": "37924999",
   "metadata": {},
   "outputs": [
    {
     "name": "stdout",
     "output_type": "stream",
     "text": [
      "With only Least Constraining Value, it take average 14.7093 steps to solve the problem\n"
     ]
    }
   ],
   "source": [
    "print(f\"With only Least Constraining Value, it take average {np.mean(result_lcv)} steps to solve the problem\")"
   ]
  },
  {
   "cell_type": "markdown",
   "id": "a43f1b61",
   "metadata": {},
   "source": [
    "### Only forward tracking"
   ]
  },
  {
   "cell_type": "code",
   "execution_count": 10,
   "id": "c79a304a",
   "metadata": {},
   "outputs": [],
   "source": [
    "result_ft = []\n",
    "for i in range(n):\n",
    "    result_ft.append(solve_semi_magic(backtracking_search, \n",
    "                                   select_unassigned_variable = first_unassigned_variable, \n",
    "                                   order_domain_values = unordered_domain_values,\n",
    "                                   inference = forward_checking).nassigns)"
   ]
  },
  {
   "cell_type": "code",
   "execution_count": 11,
   "id": "c526678b",
   "metadata": {},
   "outputs": [
    {
     "name": "stdout",
     "output_type": "stream",
     "text": [
      "With only forward tracking, it take average 11.7898 steps to solve the problem\n"
     ]
    }
   ],
   "source": [
    "print(f\"With only forward tracking, it take average {np.mean(result_ft)} steps to solve the problem\")"
   ]
  },
  {
   "cell_type": "markdown",
   "id": "69cdc3d5",
   "metadata": {},
   "source": [
    "### Only AC3"
   ]
  },
  {
   "cell_type": "code",
   "execution_count": 12,
   "id": "71b11342",
   "metadata": {},
   "outputs": [],
   "source": [
    "result_ac3 = []\n",
    "for i in range(n):\n",
    "    result_ac3.append(solve_semi_magic(backtracking_search, \n",
    "                                   select_unassigned_variable = first_unassigned_variable, \n",
    "                                   order_domain_values = unordered_domain_values,\n",
    "                                   inference = mac).nassigns)"
   ]
  },
  {
   "cell_type": "code",
   "execution_count": 13,
   "id": "ac65e34b",
   "metadata": {},
   "outputs": [
    {
     "name": "stdout",
     "output_type": "stream",
     "text": [
      "With only AC3, it take average 9.4543 steps to solve the problem\n"
     ]
    }
   ],
   "source": [
    "print(f\"With only AC3, it take average {np.mean(result_ac3)} steps to solve the problem\")"
   ]
  },
  {
   "cell_type": "markdown",
   "id": "55e1573e",
   "metadata": {},
   "source": [
    "### MRV, LCV, AC 3"
   ]
  },
  {
   "cell_type": "code",
   "execution_count": 14,
   "id": "f2a0200e",
   "metadata": {},
   "outputs": [],
   "source": [
    "result_all = []\n",
    "for i in range(n):\n",
    "    result_all.append(solve_semi_magic(backtracking_search, \n",
    "                                   select_unassigned_variable = mrv, \n",
    "                                   order_domain_values = lcv,\n",
    "                                   inference = mac).nassigns)"
   ]
  },
  {
   "cell_type": "code",
   "execution_count": 15,
   "id": "2c6e7dee",
   "metadata": {},
   "outputs": [
    {
     "name": "stdout",
     "output_type": "stream",
     "text": [
      "With MRV, LCV and AC 3, it take average 9.0 steps to solve the problem\n"
     ]
    }
   ],
   "source": [
    "print(f\"With MRV, LCV and AC 3, it take average {np.mean(result_all)} steps to solve the problem\")"
   ]
  },
  {
   "cell_type": "code",
   "execution_count": 16,
   "id": "0842e3d4",
   "metadata": {},
   "outputs": [
    {
     "name": "stdout",
     "output_type": "stream",
     "text": [
      "---------------------------------------------------------------------------------------------------------------------\n",
      "method \t \t select unassigned variable \t select domain values \t\t inference \t\t average assignments\n",
      "---------------------------------------------------------------------------------------------------------------------\n",
      "backTracking, \t first unassigned variable, \t unordered, \t\t\t no inference ,\t\t  14.9176\n",
      "backTracking, \t minimum remaining values, \t unordered, \t\t\t no inference ,\t\t  14.8263\n",
      "backTracking, \t first unassigned variable, \t least constraining value, \t no inference ,\t\t  14.7093\n",
      "backTracking, \t first unassigned variable, \t unordered, \t\t\t forward tracking ,\t  11.7898\n",
      "backTracking, \t first unassigned variable, \t unordered, \t\t\t AC-3 ,\t\t\t  9.4543\n",
      "backTracking, \t minimum remaining values, \t least constraining value, \t AC-3 ,\t\t\t  9.0\n"
     ]
    }
   ],
   "source": [
    "print(f\"-\"*117)\n",
    "print(f\"method \\t \\t select unassigned variable \\t select domain values \\t\\t inference \\t\\t average assignments\")\n",
    "print(f\"-\"*117)\n",
    "print(f\"backTracking, \\t first unassigned variable, \\t unordered, \\t\\t\\t no inference ,\\t\\t  {np.mean(result_raw)}\")\n",
    "print(f\"backTracking, \\t minimum remaining values, \\t unordered, \\t\\t\\t no inference ,\\t\\t  {np.mean(result_mrv)}\")\n",
    "print(f\"backTracking, \\t first unassigned variable, \\t least constraining value, \\t no inference ,\\t\\t  {np.mean(result_lcv)}\")\n",
    "print(f\"backTracking, \\t first unassigned variable, \\t unordered, \\t\\t\\t forward tracking ,\\t  {np.mean(result_ft)}\")\n",
    "print(f\"backTracking, \\t first unassigned variable, \\t unordered, \\t\\t\\t AC-3 ,\\t\\t\\t  {np.mean(result_ac3)}\")\n",
    "print(f\"backTracking, \\t minimum remaining values, \\t least constraining value, \\t AC-3 ,\\t\\t\\t  {np.mean(result_all)}\")"
   ]
  },
  {
   "cell_type": "markdown",
   "id": "392c1e89",
   "metadata": {},
   "source": [
    "## Findings\n",
    "\n",
    "- Backtracking search algorithm without any enhancement gives the worst result\n",
    "- Minimum remaining values(MRV) gives negligible different result\n",
    "- Least Constraining Value (LCV) is slightly more efficient than pure MRV\n",
    "- Forward check improves the performance greatly as it terminate seach when any variable has no legal values\n",
    "- AC 3 is more effective than forward checking\n",
    "- By implementing MRV, LCV and AC 3, it gave the optimal solution: average 9 steps\n",
    "\n",
    "For this problem,\n",
    "- MRV and LCV does not help a lot because each variables have roughly the same amount of constraints, and each value will also have roughly the same amount of constraints on other variables. Thus, the order of which variable or values are assigned first will only have very little effect on the performance of the algorithm\n",
    "- Forward checking improves the performance significantly because it can terminate early when any variable has no legal values. However, AC 3 is more efficient than forward checking because it does not only check the node under constraints, but also the neighbours to propagatesthe information, and hence spot the failure earlier.\n",
    "- Combining MRV, LCV and AC 3 allows the algorithm to make use of all the advantages and hence gives the optimal solution."
   ]
  }
 ],
 "metadata": {
  "kernelspec": {
   "display_name": "NLP-SUTD",
   "language": "python",
   "name": "nlp-sutd"
  },
  "language_info": {
   "codemirror_mode": {
    "name": "ipython",
    "version": 3
   },
   "file_extension": ".py",
   "mimetype": "text/x-python",
   "name": "python",
   "nbconvert_exporter": "python",
   "pygments_lexer": "ipython3",
   "version": "3.8.10"
  }
 },
 "nbformat": 4,
 "nbformat_minor": 5
}
